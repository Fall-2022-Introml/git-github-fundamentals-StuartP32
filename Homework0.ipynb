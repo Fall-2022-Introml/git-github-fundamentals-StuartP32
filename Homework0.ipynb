{
 "cells": [
  {
   "cell_type": "markdown",
   "id": "d20e16d7",
   "metadata": {},
   "source": [
    "## homework0"
   ]
  },
  {
   "cell_type": "markdown",
   "id": "11c6f75d",
   "metadata": {},
   "source": [
    "### September 3, 2022"
   ]
  },
  {
   "cell_type": "code",
   "execution_count": 10,
   "id": "51ee15b3",
   "metadata": {},
   "outputs": [
    {
     "name": "stdout",
     "output_type": "stream",
     "text": [
      "Hello\n"
     ]
    }
   ],
   "source": [
    "print('Hello')"
   ]
  },
  {
   "cell_type": "code",
   "execution_count": 11,
   "id": "b129f6d8",
   "metadata": {
    "scrolled": true
   },
   "outputs": [
    {
     "name": "stdout",
     "output_type": "stream",
     "text": [
      "Stuart Phair\n"
     ]
    }
   ],
   "source": [
    "firstName = 'Stuart'\n",
    "lastName = 'Phair'\n",
    "print(firstName + \" \" + lastName)"
   ]
  }
 ],
 "metadata": {
  "kernelspec": {
   "display_name": "Python 3 (ipykernel)",
   "language": "python",
   "name": "python3"
  },
  "language_info": {
   "codemirror_mode": {
    "name": "ipython",
    "version": 3
   },
   "file_extension": ".py",
   "mimetype": "text/x-python",
   "name": "python",
   "nbconvert_exporter": "python",
   "pygments_lexer": "ipython3",
   "version": "3.9.12"
  }
 },
 "nbformat": 4,
 "nbformat_minor": 5
}
